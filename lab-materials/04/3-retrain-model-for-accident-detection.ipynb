{
 "cells": [
  {
   "cell_type": "markdown",
   "id": "33455bdc-2bdf-455c-8806-9c10a53660d8",
   "metadata": {},
   "source": [
    "# Retrain the YOLO model\n",
    "\n",
    "We have a prepared dataset (from RoboFlow) that has annotated images and split them into training and validation datasets.  As before, we'll use the training set to teach the model and the validation set to test the results of the study and measure the quality of the trained model.\n",
    "\n",
    "1. The encode classes of objects we want to teach our model to detect is 0-'moderate' and 1-'severe'.\n",
    "2. We have created a folder for the dataset (data) and have have 2 subfolders in it: 'train' and 'valid'.  Within each subfolder we have created 2 subfolders:  'images' and 'labels'.\n",
    "3. Each image has an annotation text file in the 'labels' subfolder. The annotation text files have the same names as the image files.\n",
    "\n",
    "Once the images and associated annotations are ready, we create a dataset descriptor YAML file (data.yaml) that points to the created datasets and describes the object classes in them.  This YAML file is passed to the 'train' method of the model to start the training process.\n",
    "\n",
    "Let's get started by installing ultralytics!"
   ]
  },
  {
   "cell_type": "code",
   "execution_count": 3,
   "id": "602e0c59-42b1-4de4-9de2-d0875cf597c8",
   "metadata": {
    "tags": []
   },
   "outputs": [
    {
     "name": "stdout",
     "output_type": "stream",
     "text": [
      "Requirement already satisfied: ultralytics in /opt/app-root/lib/python3.9/site-packages (8.0.226)\n",
      "Requirement already satisfied: scipy>=1.4.1 in /opt/app-root/lib/python3.9/site-packages (from ultralytics) (1.11.3)\n",
      "Requirement already satisfied: requests>=2.23.0 in /opt/app-root/lib/python3.9/site-packages (from ultralytics) (2.31.0)\n",
      "Requirement already satisfied: pillow>=7.1.2 in /opt/app-root/lib/python3.9/site-packages (from ultralytics) (10.1.0)\n",
      "Requirement already satisfied: py-cpuinfo in /opt/app-root/lib/python3.9/site-packages (from ultralytics) (9.0.0)\n",
      "Requirement already satisfied: opencv-python>=4.6.0 in /opt/app-root/lib/python3.9/site-packages (from ultralytics) (4.8.1.78)\n",
      "Requirement already satisfied: matplotlib>=3.3.0 in /opt/app-root/lib/python3.9/site-packages (from ultralytics) (3.6.3)\n",
      "Requirement already satisfied: seaborn>=0.11.0 in /opt/app-root/lib/python3.9/site-packages (from ultralytics) (0.13.0)\n",
      "Requirement already satisfied: torchvision>=0.9.0 in /opt/app-root/lib/python3.9/site-packages (from ultralytics) (0.15.2+cu118)\n",
      "Requirement already satisfied: torch>=1.8.0 in /opt/app-root/lib/python3.9/site-packages (from ultralytics) (2.0.1+cu118)\n",
      "Requirement already satisfied: tqdm>=4.64.0 in /opt/app-root/lib/python3.9/site-packages (from ultralytics) (4.66.1)\n",
      "Requirement already satisfied: numpy>=1.22.2 in /opt/app-root/lib/python3.9/site-packages (from ultralytics) (1.24.4)\n",
      "Requirement already satisfied: pandas>=1.1.4 in /opt/app-root/lib/python3.9/site-packages (from ultralytics) (1.5.3)\n",
      "Requirement already satisfied: psutil in /opt/app-root/lib/python3.9/site-packages (from ultralytics) (5.9.6)\n",
      "Requirement already satisfied: thop>=0.1.1 in /opt/app-root/lib/python3.9/site-packages (from ultralytics) (0.1.1.post2209072238)\n",
      "Requirement already satisfied: pyyaml>=5.3.1 in /opt/app-root/lib/python3.9/site-packages (from ultralytics) (6.0.1)\n",
      "Requirement already satisfied: python-dateutil>=2.7 in /opt/app-root/lib/python3.9/site-packages (from matplotlib>=3.3.0->ultralytics) (2.8.2)\n",
      "Requirement already satisfied: contourpy>=1.0.1 in /opt/app-root/lib/python3.9/site-packages (from matplotlib>=3.3.0->ultralytics) (1.2.0)\n",
      "Requirement already satisfied: packaging>=20.0 in /opt/app-root/lib/python3.9/site-packages (from matplotlib>=3.3.0->ultralytics) (23.2)\n",
      "Requirement already satisfied: kiwisolver>=1.0.1 in /opt/app-root/lib/python3.9/site-packages (from matplotlib>=3.3.0->ultralytics) (1.4.5)\n",
      "Requirement already satisfied: fonttools>=4.22.0 in /opt/app-root/lib/python3.9/site-packages (from matplotlib>=3.3.0->ultralytics) (4.44.0)\n",
      "Requirement already satisfied: pyparsing>=2.2.1 in /opt/app-root/lib/python3.9/site-packages (from matplotlib>=3.3.0->ultralytics) (3.1.1)\n",
      "Requirement already satisfied: cycler>=0.10 in /opt/app-root/lib/python3.9/site-packages (from matplotlib>=3.3.0->ultralytics) (0.12.1)\n",
      "Requirement already satisfied: pytz>=2020.1 in /opt/app-root/lib/python3.9/site-packages (from pandas>=1.1.4->ultralytics) (2023.3.post1)\n",
      "Requirement already satisfied: urllib3<3,>=1.21.1 in /opt/app-root/lib/python3.9/site-packages (from requests>=2.23.0->ultralytics) (1.26.18)\n",
      "Requirement already satisfied: charset-normalizer<4,>=2 in /opt/app-root/lib/python3.9/site-packages (from requests>=2.23.0->ultralytics) (3.3.2)\n",
      "Requirement already satisfied: idna<4,>=2.5 in /opt/app-root/lib/python3.9/site-packages (from requests>=2.23.0->ultralytics) (3.4)\n",
      "Requirement already satisfied: certifi>=2017.4.17 in /opt/app-root/lib/python3.9/site-packages (from requests>=2.23.0->ultralytics) (2023.7.22)\n",
      "Requirement already satisfied: networkx in /opt/app-root/lib/python3.9/site-packages (from torch>=1.8.0->ultralytics) (3.2.1)\n",
      "Requirement already satisfied: triton==2.0.0 in /opt/app-root/lib/python3.9/site-packages (from torch>=1.8.0->ultralytics) (2.0.0)\n",
      "Requirement already satisfied: jinja2 in /opt/app-root/lib/python3.9/site-packages (from torch>=1.8.0->ultralytics) (3.1.2)\n",
      "Requirement already satisfied: typing-extensions in /opt/app-root/lib/python3.9/site-packages (from torch>=1.8.0->ultralytics) (4.8.0)\n",
      "Requirement already satisfied: filelock in /opt/app-root/lib/python3.9/site-packages (from torch>=1.8.0->ultralytics) (3.13.1)\n",
      "Requirement already satisfied: sympy in /opt/app-root/lib/python3.9/site-packages (from torch>=1.8.0->ultralytics) (1.12)\n",
      "Requirement already satisfied: lit in /opt/app-root/lib/python3.9/site-packages (from triton==2.0.0->torch>=1.8.0->ultralytics) (17.0.4)\n",
      "Requirement already satisfied: cmake in /opt/app-root/lib/python3.9/site-packages (from triton==2.0.0->torch>=1.8.0->ultralytics) (3.27.7)\n",
      "Requirement already satisfied: six>=1.5 in /opt/app-root/lib/python3.9/site-packages (from python-dateutil>=2.7->matplotlib>=3.3.0->ultralytics) (1.16.0)\n",
      "Requirement already satisfied: MarkupSafe>=2.0 in /opt/app-root/lib/python3.9/site-packages (from jinja2->torch>=1.8.0->ultralytics) (2.1.3)\n",
      "Requirement already satisfied: mpmath>=0.19 in /opt/app-root/lib/python3.9/site-packages (from sympy->torch>=1.8.0->ultralytics) (1.3.0)\n",
      "\n",
      "\u001b[1m[\u001b[0m\u001b[34;49mnotice\u001b[0m\u001b[1;39;49m]\u001b[0m\u001b[39;49m A new release of pip available: \u001b[0m\u001b[31;49m22.2.2\u001b[0m\u001b[39;49m -> \u001b[0m\u001b[32;49m23.3.1\u001b[0m\n",
      "\u001b[1m[\u001b[0m\u001b[34;49mnotice\u001b[0m\u001b[1;39;49m]\u001b[0m\u001b[39;49m To update, run: \u001b[0m\u001b[32;49mpip install --upgrade pip\u001b[0m\n"
     ]
    }
   ],
   "source": [
    "!pip install ultralytics \n",
    "from ultralytics import YOLO"
   ]
  },
  {
   "cell_type": "markdown",
   "id": "cc755b4b-db03-4b43-9da9-80ed8298417b",
   "metadata": {},
   "source": [
    "Next let's load a YOLO model 'yolo8m.pt'"
   ]
  },
  {
   "cell_type": "code",
   "execution_count": 4,
   "id": "6e595eb2-0e11-4dce-9d5c-2a2025ddcd6d",
   "metadata": {
    "tags": []
   },
   "outputs": [],
   "source": [
    "# Load model\n",
    "model = YOLO('yolov8m.pt')  # load a pretrained model (recommended for training)"
   ]
  },
  {
   "cell_type": "markdown",
   "id": "ee248d43-dee9-409c-897d-7e2a4e323368",
   "metadata": {},
   "source": [
    "Once we've loaded our model we are going to start a training loop.  'data' is the only required option.  You pass the YAML descriptor file to it.\n",
    "Each cycle has a training phase and validation phase.  "
   ]
  },
  {
   "cell_type": "markdown",
   "id": "6a47538b-f71b-4f86-8ffe-27eb53d596ef",
   "metadata": {
    "tags": []
   },
   "source": [
    "## Get the training data\n"
   ]
  },
  {
   "cell_type": "code",
   "execution_count": 5,
   "id": "6da81f70-8aba-4a31-aa69-ed84280fa96d",
   "metadata": {
    "tags": []
   },
   "outputs": [
    {
     "name": "stdout",
     "output_type": "stream",
     "text": [
      "Downloading file\n"
     ]
    },
    {
     "name": "stderr",
     "output_type": "stream",
     "text": [
      "  % Total    % Received % Xferd  Average Speed   Time    Time     Time  Current\n",
      "                                 Dload  Upload   Total   Spent    Left  Speed\n",
      "100  901M  100  901M    0     0  48.5M      0  0:00:18  0:00:18 --:--:-- 43.5M\n",
      "\n",
      "real\t0m18.591s\n",
      "user\t0m0.694s\n",
      "sys\t0m1.678s\n"
     ]
    },
    {
     "name": "stdout",
     "output_type": "stream",
     "text": [
      "-rw-r--r--. 1 1000830000 1000830000 902M Dec 11 22:32 accident.zip\n",
      "unzipping file\n"
     ]
    },
    {
     "name": "stderr",
     "output_type": "stream",
     "text": [
      "\n",
      "real\t0m5.940s\n",
      "user\t0m4.442s\n",
      "sys\t0m1.430s\n"
     ]
    }
   ],
   "source": [
    "%%bash\n",
    "\n",
    "# Check if the directory exists, if not, create it\n",
    "if [ ! -d \"./datasets/\" ]; then\n",
    "    mkdir -p ./datasets/\n",
    "fi\n",
    "\n",
    "cd ./datasets/\n",
    "\n",
    "URL=\"https://rhods-public.s3.amazonaws.com/sample-data/accident-data/accident.zip\" \n",
    "\n",
    "# Check if the file exists, if not, download it\n",
    "if [ ! -e \"accident.zip\" ]; then\n",
    "    # curl $URL -o accident.zip\n",
    "    echo \"Downloading file\"\n",
    "    time curl -L -O -J \\\n",
    "        --retry 3 \\\n",
    "        --retry-delay 5 \\\n",
    "        --retry-max-time 30 \\\n",
    "        $URL\n",
    "    ls -alh accident.zip    \n",
    "\n",
    "    echo \"unzipping file\"\n",
    "    time unzip -q accident.zip \n",
    "fi"
   ]
  },
  {
   "cell_type": "code",
   "execution_count": null,
   "id": "22954895-0c26-4ae0-93c1-259efd18e47e",
   "metadata": {
    "tags": []
   },
   "outputs": [
    {
     "name": "stdout",
     "output_type": "stream",
     "text": [
      "Ultralytics YOLOv8.0.226 🚀 Python-3.9.18 torch-2.0.1+cu118 CPU (Intel Xeon Platinum 8259CL 2.50GHz)\n",
      "\u001b[34m\u001b[1mengine/trainer: \u001b[0mtask=detect, mode=train, model=yolov8m.pt, data=datasets/data.yaml, epochs=1, patience=50, batch=16, imgsz=640, save=True, save_period=-1, cache=False, device=None, workers=8, project=None, name=train, exist_ok=False, pretrained=True, optimizer=auto, verbose=True, seed=0, deterministic=True, single_cls=False, rect=False, cos_lr=False, close_mosaic=10, resume=False, amp=True, fraction=1.0, profile=False, freeze=None, overlap_mask=True, mask_ratio=4, dropout=0.0, val=True, split=val, save_json=False, save_hybrid=False, conf=None, iou=0.7, max_det=300, half=False, dnn=False, plots=True, source=None, vid_stride=1, stream_buffer=False, visualize=False, augment=False, agnostic_nms=False, classes=None, retina_masks=False, show=False, save_frames=False, save_txt=False, save_conf=False, save_crop=False, show_labels=True, show_conf=True, show_boxes=True, line_width=None, format=torchscript, keras=False, optimize=False, int8=False, dynamic=False, simplify=False, opset=None, workspace=4, nms=False, lr0=0.01, lrf=0.01, momentum=0.937, weight_decay=0.0005, warmup_epochs=3.0, warmup_momentum=0.8, warmup_bias_lr=0.1, box=7.5, cls=0.5, dfl=1.5, pose=12.0, kobj=1.0, label_smoothing=0.0, nbs=64, hsv_h=0.015, hsv_s=0.7, hsv_v=0.4, degrees=0.0, translate=0.1, scale=0.5, shear=0.0, perspective=0.0, flipud=0.0, fliplr=0.5, mosaic=1.0, mixup=0.0, copy_paste=0.0, cfg=None, tracker=botsort.yaml, save_dir=runs/detect/train\n",
      "Overriding model.yaml nc=80 with nc=2\n",
      "\n",
      "                   from  n    params  module                                       arguments                     \n",
      "  0                  -1  1      1392  ultralytics.nn.modules.conv.Conv             [3, 48, 3, 2]                 \n",
      "  1                  -1  1     41664  ultralytics.nn.modules.conv.Conv             [48, 96, 3, 2]                \n",
      "  2                  -1  2    111360  ultralytics.nn.modules.block.C2f             [96, 96, 2, True]             \n",
      "  3                  -1  1    166272  ultralytics.nn.modules.conv.Conv             [96, 192, 3, 2]               \n",
      "  4                  -1  4    813312  ultralytics.nn.modules.block.C2f             [192, 192, 4, True]           \n",
      "  5                  -1  1    664320  ultralytics.nn.modules.conv.Conv             [192, 384, 3, 2]              \n",
      "  6                  -1  4   3248640  ultralytics.nn.modules.block.C2f             [384, 384, 4, True]           \n",
      "  7                  -1  1   1991808  ultralytics.nn.modules.conv.Conv             [384, 576, 3, 2]              \n",
      "  8                  -1  2   3985920  ultralytics.nn.modules.block.C2f             [576, 576, 2, True]           \n",
      "  9                  -1  1    831168  ultralytics.nn.modules.block.SPPF            [576, 576, 5]                 \n",
      " 10                  -1  1         0  torch.nn.modules.upsampling.Upsample         [None, 2, 'nearest']          \n",
      " 11             [-1, 6]  1         0  ultralytics.nn.modules.conv.Concat           [1]                           \n",
      " 12                  -1  2   1993728  ultralytics.nn.modules.block.C2f             [960, 384, 2]                 \n",
      " 13                  -1  1         0  torch.nn.modules.upsampling.Upsample         [None, 2, 'nearest']          \n",
      " 14             [-1, 4]  1         0  ultralytics.nn.modules.conv.Concat           [1]                           \n",
      " 15                  -1  2    517632  ultralytics.nn.modules.block.C2f             [576, 192, 2]                 \n",
      " 16                  -1  1    332160  ultralytics.nn.modules.conv.Conv             [192, 192, 3, 2]              \n",
      " 17            [-1, 12]  1         0  ultralytics.nn.modules.conv.Concat           [1]                           \n",
      " 18                  -1  2   1846272  ultralytics.nn.modules.block.C2f             [576, 384, 2]                 \n",
      " 19                  -1  1   1327872  ultralytics.nn.modules.conv.Conv             [384, 384, 3, 2]              \n",
      " 20             [-1, 9]  1         0  ultralytics.nn.modules.conv.Concat           [1]                           \n",
      " 21                  -1  2   4207104  ultralytics.nn.modules.block.C2f             [960, 576, 2]                 \n",
      " 22        [15, 18, 21]  1   3776854  ultralytics.nn.modules.head.Detect           [2, [192, 384, 576]]          \n",
      "Model summary: 295 layers, 25857478 parameters, 25857462 gradients, 79.1 GFLOPs\n",
      "\n",
      "Transferred 469/475 items from pretrained weights\n",
      "\u001b[34m\u001b[1mTensorBoard: \u001b[0mStart with 'tensorboard --logdir runs/detect/train', view at http://localhost:6006/\n",
      "Freezing layer 'model.22.dfl.conv.weight'\n"
     ]
    },
    {
     "name": "stderr",
     "output_type": "stream",
     "text": [
      "\u001b[34m\u001b[1mtrain: \u001b[0mScanning /opt/app-root/src/insurance-claim-processing/lab-materials/03/datasets/train/labels... 9758 images, 7 backgrounds, 0 corrupt: 100%|██████████| 9758/9758 [00:05<00:00, 1820.95it/s]\n"
     ]
    },
    {
     "name": "stdout",
     "output_type": "stream",
     "text": [
      "\u001b[34m\u001b[1mtrain: \u001b[0mNew cache created: /opt/app-root/src/insurance-claim-processing/lab-materials/03/datasets/train/labels.cache\n"
     ]
    },
    {
     "name": "stderr",
     "output_type": "stream",
     "text": [
      "\u001b[34m\u001b[1mval: \u001b[0mScanning /opt/app-root/src/insurance-claim-processing/lab-materials/03/datasets/valid/labels... 1347 images, 1 backgrounds, 0 corrupt: 100%|██████████| 1347/1347 [00:00<00:00, 1801.04it/s]"
     ]
    },
    {
     "name": "stdout",
     "output_type": "stream",
     "text": [
      "\u001b[34m\u001b[1mval: \u001b[0mNew cache created: /opt/app-root/src/insurance-claim-processing/lab-materials/03/datasets/valid/labels.cache\n"
     ]
    },
    {
     "name": "stderr",
     "output_type": "stream",
     "text": [
      "\n"
     ]
    },
    {
     "name": "stdout",
     "output_type": "stream",
     "text": [
      "Plotting labels to runs/detect/train/labels.jpg... \n",
      "\u001b[34m\u001b[1moptimizer:\u001b[0m 'optimizer=auto' found, ignoring 'lr0=0.01' and 'momentum=0.937' and determining best 'optimizer', 'lr0' and 'momentum' automatically... \n",
      "\u001b[34m\u001b[1moptimizer:\u001b[0m AdamW(lr=0.001667, momentum=0.9) with parameter groups 77 weight(decay=0.0), 84 weight(decay=0.0005), 83 bias(decay=0.0)\n",
      "Image sizes 640 train, 640 val\n",
      "Using 0 dataloader workers\n",
      "Logging results to \u001b[1mruns/detect/train\u001b[0m\n",
      "Starting training for 1 epochs...\n",
      "\n",
      "      Epoch    GPU_mem   box_loss   cls_loss   dfl_loss  Instances       Size\n"
     ]
    },
    {
     "name": "stderr",
     "output_type": "stream",
     "text": [
      "        1/1         0G      1.676       4.71      2.009         28        640:   0%|          | 1/610 [00:11<1:51:51, 11.02s/it]"
     ]
    }
   ],
   "source": [
    "# Train model\n",
    "# results = model.train(data='data.yaml', epochs=7, imgsz=640)\n",
    "results = model.train(data='datasets/data.yaml', epochs=1, imgsz=640)\n"
   ]
  },
  {
   "cell_type": "code",
   "execution_count": null,
   "id": "f6fcc28f-9089-4925-8ab1-c7223f2888f3",
   "metadata": {
    "tags": []
   },
   "outputs": [],
   "source": []
  },
  {
   "cell_type": "code",
   "execution_count": null,
   "id": "bbd8be36-a722-49a0-a643-1e29bddd2c02",
   "metadata": {
    "tags": []
   },
   "outputs": [],
   "source": []
  },
  {
   "cell_type": "code",
   "execution_count": null,
   "id": "97ff02fe-57fc-4054-a4da-ce083cadbff3",
   "metadata": {
    "tags": []
   },
   "outputs": [],
   "source": []
  },
  {
   "cell_type": "code",
   "execution_count": null,
   "id": "1f03fc4e-2faf-49dd-8799-66dbec1c84fa",
   "metadata": {},
   "outputs": [],
   "source": [
    "#export 'best' model to ONNX format\n",
    "#ObjDetOXModel = YOLO(\"runs/detect/train6/weights/best.pt\").export(format=\"onnx\")"
   ]
  },
  {
   "cell_type": "markdown",
   "id": "d0e04015-9536-4d0b-81eb-1c88e33eb9a7",
   "metadata": {},
   "source": [
    "## Interpreting our Training Results\n",
    "\n",
    "For each epoch it shows a summary for both the training and validation phases: lines 1 and 2 show results of the training phase and lines 3 and 4 show the results of the validation phase for each epoch.\n",
    "\n",
    "The training phase includes a calculation of the amount of error in a loss function, so the most valuable metrics here are box_loss and cls_loss.\n",
    "\n",
    "box_loss shows the amount of error in detected bounding boxes.\n",
    "cls_loss shows the amount of error in detected object classes.\n",
    "\n",
    "If the model really learns something from the data, then you should see that these values decrease from epoch to epoch. \n",
    "In a previous screenshot the box_loss decreased: 1.271, 1.113, 0.8679 and the cls_loss decreased too: 1.893, 1.404, 0.9703.\n",
    "\n",
    "The most valuable quality metric is mAP50-95, which is Mean Average Precision. If the model learns and improves, the precision should grow from epoch to epoch.  In a previous screenshot mAP50-95 increased: 0.314 (epoch1), 0.663 (epoch4), 0.882 (epoch7)\n",
    "\n",
    "If after the last epoch you did not get acceptable precision, you can increase the number of epochs and run the training again. Also, you can tune other parameters like batch, lr0, lrf or change the optimizer you're using.\n",
    "\n",
    "During training we export the trained model, after each epoch, to the /runs/detect/train/weights/last.pt file and the model with the highest precision to the /runs/detect/train/weights/best.pt file. So, after training is finished, you can get the best.pt file to use in production.\n",
    "\n",
    "Note:  In real world problems, you need to run much more epochs (then we have shown here) and be prepared to wait hours or days (like we did!) until training finishes.\n",
    "\n"
   ]
  },
  {
   "cell_type": "markdown",
   "id": "4674527f-b0ae-4f11-84ae-4bc094c6928c",
   "metadata": {},
   "source": [
    "\n",
    "### Now that we have retrained our model let's test it!  Open notebook:  4-test-retrained-model.ipynb"
   ]
  }
 ],
 "metadata": {
  "kernelspec": {
   "display_name": "Python 3.9",
   "language": "python",
   "name": "python3"
  },
  "language_info": {
   "codemirror_mode": {
    "name": "ipython",
    "version": 3
   },
   "file_extension": ".py",
   "mimetype": "text/x-python",
   "name": "python",
   "nbconvert_exporter": "python",
   "pygments_lexer": "ipython3",
   "version": "3.9.18"
  }
 },
 "nbformat": 4,
 "nbformat_minor": 5
}
