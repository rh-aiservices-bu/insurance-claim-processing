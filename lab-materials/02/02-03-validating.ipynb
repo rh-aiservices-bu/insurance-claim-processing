{
 "cells": [
  {
   "cell_type": "markdown",
   "metadata": {
    "tags": []
   },
   "source": [
    "# Define functions"
   ]
  },
  {
   "cell_type": "code",
   "execution_count": null,
   "metadata": {
    "tags": []
   },
   "outputs": [],
   "source": [
    "import socket\n",
    "\n",
    "def check_service_connection(host, port):\n",
    "    try:\n",
    "        # Create a socket object\n",
    "        s = socket.create_connection((host, port), timeout=5)\n",
    "        s.close()\n",
    "        return True\n",
    "    except (socket.timeout, ConnectionRefusedError):\n",
    "        return False\n",
    "\n",
    "def check_services(services):\n",
    "    for service in services:\n",
    "        host, port, name = service\n",
    "        if check_service_connection(host, port):\n",
    "            print(f\"Success: {name} is reachable on {host}:{port}\")\n",
    "        else:\n",
    "            print(f\"Failure: {name} is NOT reachable on {host}:{port}\")"
   ]
  },
  {
   "cell_type": "markdown",
   "metadata": {
    "tags": []
   },
   "source": [
    "# Execute checks"
   ]
  },
  {
   "cell_type": "code",
   "execution_count": null,
   "metadata": {
    "tags": []
   },
   "outputs": [],
   "source": [
    "# Confirm that minio is reachable\n",
    "if __name__ == \"__main__\":\n",
    "    # List of services to check\n",
    "    services_to_check = [\n",
    "        (\"minio.ic-shared-minio.svc.cluster.local\", 9000, \"Minio\"),\n",
    "        (\"gitea.gitea.svc.cluster.local\", 3000, \"Gitea\"),\n",
    "        (\"claimdb.ic-shared-db.svc.cluster.local\", 5432, \"Postgres Database\"),\n",
    "        (\"llm.ic-shared-llm.svc.cluster.local\", 3000, \"LLM Service\"),\n",
    "        (\"modelmesh-serving.ic-shared-img-det.svc.cluster.local\", 8033, \"ModelMesh\"),\n",
    "        # Add more services as needed\n",
    "    ]\n",
    "\n",
    "    check_services(services_to_check)"
   ]
  }
 ],
 "metadata": {
  "kernelspec": {
   "display_name": "Python 3.9",
   "language": "python",
   "name": "python3"
  },
  "language_info": {
   "codemirror_mode": {
    "name": "ipython",
    "version": 3
   },
   "file_extension": ".py",
   "mimetype": "text/x-python",
   "name": "python",
   "nbconvert_exporter": "python",
   "pygments_lexer": "ipython3",
   "version": "3.9.18"
  }
 },
 "nbformat": 4,
 "nbformat_minor": 4
}
