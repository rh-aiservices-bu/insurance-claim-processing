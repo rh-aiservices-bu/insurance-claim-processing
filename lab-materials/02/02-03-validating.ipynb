{
 "cells": [
  {
   "cell_type": "code",
   "execution_count": 1,
   "metadata": {},
   "outputs": [],
   "source": [
    "import socket\n",
    "\n",
    "def check_service_connection(host, port):\n",
    "    try:\n",
    "        # Create a socket object\n",
    "        s = socket.create_connection((host, port), timeout=5)\n",
    "        s.close()\n",
    "        return True\n",
    "    except (socket.timeout, ConnectionRefusedError):\n",
    "        return False\n",
    "\n",
    "def check_services(services):\n",
    "    for service in services:\n",
    "        host, port, name = service\n",
    "        if check_service_connection(host, port):\n",
    "            print(f\"{name} is reachable on {host}:{port}\")\n",
    "        else:\n",
    "            print(f\"{name} is not reachable on {host}:{port}\")"
   ]
  },
  {
   "cell_type": "code",
   "execution_count": 2,
   "metadata": {},
   "outputs": [
    {
     "ename": "gaierror",
     "evalue": "[Errno 8] nodename nor servname provided, or not known",
     "output_type": "error",
     "traceback": [
      "\u001b[0;31m---------------------------------------------------------------------------\u001b[0m",
      "\u001b[0;31mgaierror\u001b[0m                                  Traceback (most recent call last)",
      "\u001b[1;32m/Users/egranger/Documents/github_projects/rh-aiservices-bu/insurance-claim-processing/lab-materials/02/02-03-validating.ipynb Cell 2\u001b[0m line \u001b[0;36m9\n\u001b[1;32m      <a href='vscode-notebook-cell:/Users/egranger/Documents/github_projects/rh-aiservices-bu/insurance-claim-processing/lab-materials/02/02-03-validating.ipynb#X10sZmlsZQ%3D%3D?line=1'>2</a>\u001b[0m \u001b[39mif\u001b[39;00m \u001b[39m__name__\u001b[39m \u001b[39m==\u001b[39m \u001b[39m\"\u001b[39m\u001b[39m__main__\u001b[39m\u001b[39m\"\u001b[39m:\n\u001b[1;32m      <a href='vscode-notebook-cell:/Users/egranger/Documents/github_projects/rh-aiservices-bu/insurance-claim-processing/lab-materials/02/02-03-validating.ipynb#X10sZmlsZQ%3D%3D?line=2'>3</a>\u001b[0m     \u001b[39m# List of services to check\u001b[39;00m\n\u001b[1;32m      <a href='vscode-notebook-cell:/Users/egranger/Documents/github_projects/rh-aiservices-bu/insurance-claim-processing/lab-materials/02/02-03-validating.ipynb#X10sZmlsZQ%3D%3D?line=3'>4</a>\u001b[0m     services_to_check \u001b[39m=\u001b[39m [\n\u001b[1;32m      <a href='vscode-notebook-cell:/Users/egranger/Documents/github_projects/rh-aiservices-bu/insurance-claim-processing/lab-materials/02/02-03-validating.ipynb#X10sZmlsZQ%3D%3D?line=4'>5</a>\u001b[0m         (\u001b[39m\"\u001b[39m\u001b[39mminio.shared-minio.svc.cluster.local\u001b[39m\u001b[39m\"\u001b[39m, \u001b[39m9000\u001b[39m, \u001b[39m\"\u001b[39m\u001b[39mMinio\u001b[39m\u001b[39m\"\u001b[39m),\n\u001b[1;32m      <a href='vscode-notebook-cell:/Users/egranger/Documents/github_projects/rh-aiservices-bu/insurance-claim-processing/lab-materials/02/02-03-validating.ipynb#X10sZmlsZQ%3D%3D?line=5'>6</a>\u001b[0m         \u001b[39m# Add more services as needed\u001b[39;00m\n\u001b[1;32m      <a href='vscode-notebook-cell:/Users/egranger/Documents/github_projects/rh-aiservices-bu/insurance-claim-processing/lab-materials/02/02-03-validating.ipynb#X10sZmlsZQ%3D%3D?line=6'>7</a>\u001b[0m     ]\n\u001b[0;32m----> <a href='vscode-notebook-cell:/Users/egranger/Documents/github_projects/rh-aiservices-bu/insurance-claim-processing/lab-materials/02/02-03-validating.ipynb#X10sZmlsZQ%3D%3D?line=8'>9</a>\u001b[0m     check_services(services_to_check)\n",
      "\u001b[1;32m/Users/egranger/Documents/github_projects/rh-aiservices-bu/insurance-claim-processing/lab-materials/02/02-03-validating.ipynb Cell 2\u001b[0m line \u001b[0;36m1\n\u001b[1;32m     <a href='vscode-notebook-cell:/Users/egranger/Documents/github_projects/rh-aiservices-bu/insurance-claim-processing/lab-materials/02/02-03-validating.ipynb#X10sZmlsZQ%3D%3D?line=12'>13</a>\u001b[0m \u001b[39mfor\u001b[39;00m service \u001b[39min\u001b[39;00m services:\n\u001b[1;32m     <a href='vscode-notebook-cell:/Users/egranger/Documents/github_projects/rh-aiservices-bu/insurance-claim-processing/lab-materials/02/02-03-validating.ipynb#X10sZmlsZQ%3D%3D?line=13'>14</a>\u001b[0m     host, port, name \u001b[39m=\u001b[39m service\n\u001b[0;32m---> <a href='vscode-notebook-cell:/Users/egranger/Documents/github_projects/rh-aiservices-bu/insurance-claim-processing/lab-materials/02/02-03-validating.ipynb#X10sZmlsZQ%3D%3D?line=14'>15</a>\u001b[0m     \u001b[39mif\u001b[39;00m check_service_connection(host, port):\n\u001b[1;32m     <a href='vscode-notebook-cell:/Users/egranger/Documents/github_projects/rh-aiservices-bu/insurance-claim-processing/lab-materials/02/02-03-validating.ipynb#X10sZmlsZQ%3D%3D?line=15'>16</a>\u001b[0m         \u001b[39mprint\u001b[39m(\u001b[39mf\u001b[39m\u001b[39m\"\u001b[39m\u001b[39m{\u001b[39;00mname\u001b[39m}\u001b[39;00m\u001b[39m is reachable on \u001b[39m\u001b[39m{\u001b[39;00mhost\u001b[39m}\u001b[39;00m\u001b[39m:\u001b[39m\u001b[39m{\u001b[39;00mport\u001b[39m}\u001b[39;00m\u001b[39m\"\u001b[39m)\n\u001b[1;32m     <a href='vscode-notebook-cell:/Users/egranger/Documents/github_projects/rh-aiservices-bu/insurance-claim-processing/lab-materials/02/02-03-validating.ipynb#X10sZmlsZQ%3D%3D?line=16'>17</a>\u001b[0m     \u001b[39melse\u001b[39;00m:\n",
      "\u001b[1;32m/Users/egranger/Documents/github_projects/rh-aiservices-bu/insurance-claim-processing/lab-materials/02/02-03-validating.ipynb Cell 2\u001b[0m line \u001b[0;36m6\n\u001b[1;32m      <a href='vscode-notebook-cell:/Users/egranger/Documents/github_projects/rh-aiservices-bu/insurance-claim-processing/lab-materials/02/02-03-validating.ipynb#X10sZmlsZQ%3D%3D?line=2'>3</a>\u001b[0m \u001b[39mdef\u001b[39;00m \u001b[39mcheck_service_connection\u001b[39m(host, port):\n\u001b[1;32m      <a href='vscode-notebook-cell:/Users/egranger/Documents/github_projects/rh-aiservices-bu/insurance-claim-processing/lab-materials/02/02-03-validating.ipynb#X10sZmlsZQ%3D%3D?line=3'>4</a>\u001b[0m     \u001b[39mtry\u001b[39;00m:\n\u001b[1;32m      <a href='vscode-notebook-cell:/Users/egranger/Documents/github_projects/rh-aiservices-bu/insurance-claim-processing/lab-materials/02/02-03-validating.ipynb#X10sZmlsZQ%3D%3D?line=4'>5</a>\u001b[0m         \u001b[39m# Create a socket object\u001b[39;00m\n\u001b[0;32m----> <a href='vscode-notebook-cell:/Users/egranger/Documents/github_projects/rh-aiservices-bu/insurance-claim-processing/lab-materials/02/02-03-validating.ipynb#X10sZmlsZQ%3D%3D?line=5'>6</a>\u001b[0m         s \u001b[39m=\u001b[39m socket\u001b[39m.\u001b[39;49mcreate_connection((host, port), timeout\u001b[39m=\u001b[39;49m\u001b[39m5\u001b[39;49m)\n\u001b[1;32m      <a href='vscode-notebook-cell:/Users/egranger/Documents/github_projects/rh-aiservices-bu/insurance-claim-processing/lab-materials/02/02-03-validating.ipynb#X10sZmlsZQ%3D%3D?line=6'>7</a>\u001b[0m         s\u001b[39m.\u001b[39mclose()\n\u001b[1;32m      <a href='vscode-notebook-cell:/Users/egranger/Documents/github_projects/rh-aiservices-bu/insurance-claim-processing/lab-materials/02/02-03-validating.ipynb#X10sZmlsZQ%3D%3D?line=7'>8</a>\u001b[0m         \u001b[39mreturn\u001b[39;00m \u001b[39mTrue\u001b[39;00m\n",
      "File \u001b[0;32m/opt/homebrew/Cellar/python@3.11/3.11.6_1/Frameworks/Python.framework/Versions/3.11/lib/python3.11/socket.py:827\u001b[0m, in \u001b[0;36mcreate_connection\u001b[0;34m(address, timeout, source_address, all_errors)\u001b[0m\n\u001b[1;32m    825\u001b[0m host, port \u001b[39m=\u001b[39m address\n\u001b[1;32m    826\u001b[0m exceptions \u001b[39m=\u001b[39m []\n\u001b[0;32m--> 827\u001b[0m \u001b[39mfor\u001b[39;00m res \u001b[39min\u001b[39;00m getaddrinfo(host, port, \u001b[39m0\u001b[39;49m, SOCK_STREAM):\n\u001b[1;32m    828\u001b[0m     af, socktype, proto, canonname, sa \u001b[39m=\u001b[39m res\n\u001b[1;32m    829\u001b[0m     sock \u001b[39m=\u001b[39m \u001b[39mNone\u001b[39;00m\n",
      "File \u001b[0;32m/opt/homebrew/Cellar/python@3.11/3.11.6_1/Frameworks/Python.framework/Versions/3.11/lib/python3.11/socket.py:962\u001b[0m, in \u001b[0;36mgetaddrinfo\u001b[0;34m(host, port, family, type, proto, flags)\u001b[0m\n\u001b[1;32m    959\u001b[0m \u001b[39m# We override this function since we want to translate the numeric family\u001b[39;00m\n\u001b[1;32m    960\u001b[0m \u001b[39m# and socket type values to enum constants.\u001b[39;00m\n\u001b[1;32m    961\u001b[0m addrlist \u001b[39m=\u001b[39m []\n\u001b[0;32m--> 962\u001b[0m \u001b[39mfor\u001b[39;00m res \u001b[39min\u001b[39;00m _socket\u001b[39m.\u001b[39;49mgetaddrinfo(host, port, family, \u001b[39mtype\u001b[39;49m, proto, flags):\n\u001b[1;32m    963\u001b[0m     af, socktype, proto, canonname, sa \u001b[39m=\u001b[39m res\n\u001b[1;32m    964\u001b[0m     addrlist\u001b[39m.\u001b[39mappend((_intenum_converter(af, AddressFamily),\n\u001b[1;32m    965\u001b[0m                      _intenum_converter(socktype, SocketKind),\n\u001b[1;32m    966\u001b[0m                      proto, canonname, sa))\n",
      "\u001b[0;31mgaierror\u001b[0m: [Errno 8] nodename nor servname provided, or not known"
     ]
    }
   ],
   "source": [
    "\n",
    "\n",
    "# Confirm that minio is reachable\n",
    "if __name__ == \"__main__\":\n",
    "    # List of services to check\n",
    "    services_to_check = [\n",
    "        (\"minio.shared-minio.svc.cluster.local\", 9000, \"Minio\"),\n",
    "        # Add more services as needed\n",
    "    ]\n",
    "\n",
    "    check_services(services_to_check)"
   ]
  },
  {
   "cell_type": "code",
   "execution_count": 2,
   "metadata": {},
   "outputs": [],
   "source": [
    "# confirm that the Database is reachable"
   ]
  },
  {
   "cell_type": "code",
   "execution_count": 3,
   "metadata": {},
   "outputs": [],
   "source": [
    "# Confirm that gitea is reachable"
   ]
  },
  {
   "cell_type": "code",
   "execution_count": 4,
   "metadata": {},
   "outputs": [],
   "source": [
    "# review the default storage classes"
   ]
  },
  {
   "cell_type": "code",
   "execution_count": 5,
   "metadata": {},
   "outputs": [],
   "source": [
    "# Confirm that the LLM service is up and responding"
   ]
  },
  {
   "cell_type": "code",
   "execution_count": 6,
   "metadata": {},
   "outputs": [],
   "source": [
    "# Confirm the main instance of the App is running"
   ]
  },
  {
   "cell_type": "code",
   "execution_count": null,
   "metadata": {},
   "outputs": [],
   "source": []
  }
 ],
 "metadata": {
  "kernelspec": {
   "display_name": "Python 3",
   "language": "python",
   "name": "python3"
  },
  "language_info": {
   "codemirror_mode": {
    "name": "ipython",
    "version": 3
   },
   "file_extension": ".py",
   "mimetype": "text/x-python",
   "name": "python",
   "nbconvert_exporter": "python",
   "pygments_lexer": "ipython3",
   "version": "3.11.6"
  }
 },
 "nbformat": 4,
 "nbformat_minor": 2
}
