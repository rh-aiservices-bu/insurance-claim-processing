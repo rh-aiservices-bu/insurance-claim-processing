{
 "cells": [
  {
   "cell_type": "code",
   "execution_count": null,
   "metadata": {
    "tags": []
   },
   "outputs": [],
   "source": [
    "import socket\n",
    "\n",
    "def check_service_connection(host, port):\n",
    "    try:\n",
    "        # Create a socket object\n",
    "        s = socket.create_connection((host, port), timeout=5)\n",
    "        s.close()\n",
    "        return True\n",
    "    except (socket.timeout, ConnectionRefusedError):\n",
    "        return False\n",
    "\n",
    "def check_services(services):\n",
    "    for service in services:\n",
    "        host, port, name = service\n",
    "        if check_service_connection(host, port):\n",
    "            print(f\"{name} is reachable on {host}:{port}\")\n",
    "        else:\n",
    "            print(f\"{name} is not reachable on {host}:{port}\")"
   ]
  },
  {
   "cell_type": "code",
   "execution_count": null,
   "metadata": {
    "tags": []
   },
   "outputs": [],
   "source": [
    "# Confirm that minio is reachable\n",
    "if __name__ == \"__main__\":\n",
    "    # List of services to check\n",
    "    services_to_check = [\n",
    "        (\"minio.shared-minio.svc.cluster.local\", 9000, \"Minio\"),\n",
    "        (\"gitea.gitea.svc.cluster.local\", 3000, \"Gitea\"),\n",
    "        # Add more services as needed\n",
    "    ]\n",
    "\n",
    "    check_services(services_to_check)"
   ]
  },
  {
   "cell_type": "code",
   "execution_count": null,
   "metadata": {},
   "outputs": [],
   "source": [
    "# confirm that the Database is reachable"
   ]
  },
  {
   "cell_type": "code",
   "execution_count": null,
   "metadata": {},
   "outputs": [],
   "source": [
    "# Confirm that gitea is reachable"
   ]
  },
  {
   "cell_type": "code",
   "execution_count": null,
   "metadata": {},
   "outputs": [],
   "source": [
    "# review the default storage classes"
   ]
  },
  {
   "cell_type": "code",
   "execution_count": null,
   "metadata": {},
   "outputs": [],
   "source": [
    "# Confirm that the LLM service is up and responding"
   ]
  },
  {
   "cell_type": "code",
   "execution_count": null,
   "metadata": {},
   "outputs": [],
   "source": [
    "# Confirm the main instance of the App is running"
   ]
  },
  {
   "cell_type": "code",
   "execution_count": null,
   "metadata": {},
   "outputs": [],
   "source": []
  }
 ],
 "metadata": {
  "kernelspec": {
   "display_name": "Python 3.9",
   "language": "python",
   "name": "python3"
  },
  "language_info": {
   "codemirror_mode": {
    "name": "ipython",
    "version": 3
   },
   "file_extension": ".py",
   "mimetype": "text/x-python",
   "name": "python",
   "nbconvert_exporter": "python",
   "pygments_lexer": "ipython3",
   "version": "3.9.16"
  }
 },
 "nbformat": 4,
 "nbformat_minor": 4
}
